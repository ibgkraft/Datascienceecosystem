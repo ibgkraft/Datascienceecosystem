{
 "cells": [
  {
   "cell_type": "markdown",
   "id": "43241aa9-f8bf-41ba-8048-565d0f214670",
   "metadata": {},
   "source": [
    "# Data Science Tools and Ecosystem"
   ]
  },
  {
   "cell_type": "markdown",
   "id": "5c1bd023-f1b4-4a31-8fad-27c1794f40e7",
   "metadata": {},
   "source": [
    "### In this notebook, Data Science Tools and Ecosystem are summarized."
   ]
  },
  {
   "cell_type": "markdown",
   "id": "00926abe-2623-46e9-a835-0c259a743241",
   "metadata": {},
   "source": [
    "### **Objectives:**\n",
    "\n",
    "- Learn tools available in Data Science\n",
    "- Learn basics of R\n",
    "- Learn basics of Github\n"
   ]
  },
  {
   "cell_type": "code",
   "execution_count": null,
   "id": "2bc536ef-4b04-40ec-a688-3f404c671add",
   "metadata": {},
   "outputs": [],
   "source": [
    "### Some of the popular languages that Data Scientists use are:\n",
    "\n",
    "1. Python\n",
    "2. R\n",
    "3. SQL"
   ]
  },
  {
   "cell_type": "markdown",
   "id": "e0bc24db-d969-4745-8bf9-1f6a5eebf533",
   "metadata": {},
   "source": [
    "### Some of the commonly used libraries used by Data Scientists include:\n",
    "\n",
    "1. numpy\n",
    "2. pandas\n",
    "3. seaborn"
   ]
  },
  {
   "cell_type": "markdown",
   "id": "23b9d8ed-d527-4df6-94e5-af79578ded38",
   "metadata": {
    "tags": []
   },
   "source": [
    "### Data Science Tools\n",
    "\n",
    "| Data Science Tool |\n",
    "| --- |\n",
    "| Hadoop |\n",
    "| Apache Spark |\n",
    "| Apache Kafka |"
   ]
  },
  {
   "cell_type": "markdown",
   "id": "9d07d882-dacf-4bb3-8e13-e6fdf18550ef",
   "metadata": {},
   "source": [
    "### Below are a few examples of evaluating arithmetic expressions in Python"
   ]
  },
  {
   "cell_type": "code",
   "execution_count": 3,
   "id": "9fad879f-b789-4f75-b3ae-ce08e67fc0f4",
   "metadata": {
    "tags": []
   },
   "outputs": [
    {
     "data": {
      "text/plain": [
       "17"
      ]
     },
     "execution_count": 3,
     "metadata": {},
     "output_type": "execute_result"
    }
   ],
   "source": [
    "###### This a simple arithmetic expression to mutiply then add integers.\n",
    "(3*4)+5"
   ]
  },
  {
   "cell_type": "code",
   "execution_count": 9,
   "id": "78eece28-b9e0-461e-97b7-fed021f83dcc",
   "metadata": {
    "tags": []
   },
   "outputs": [
    {
     "data": {
      "text/plain": [
       "3.3333333333333335"
      ]
     },
     "execution_count": 9,
     "metadata": {},
     "output_type": "execute_result"
    }
   ],
   "source": [
    "###### This will convert 200 minutes to hours by diving by 60\n",
    "minutes = 200\n",
    "hours = minutes/60\n",
    "hours"
   ]
  },
  {
   "cell_type": "markdown",
   "id": "cbce4d7e-8208-45b7-b3fd-1782afcae3b1",
   "metadata": {},
   "source": [
    "## Author\n",
    "Inigo Bacaicoa"
   ]
  },
  {
   "cell_type": "code",
   "execution_count": null,
   "id": "438eda7a-1954-422a-a705-943ac506f493",
   "metadata": {},
   "outputs": [],
   "source": []
  }
 ],
 "metadata": {
  "kernelspec": {
   "display_name": "Python",
   "language": "python",
   "name": "conda-env-python-py"
  },
  "language_info": {
   "codemirror_mode": {
    "name": "ipython",
    "version": 3
   },
   "file_extension": ".py",
   "mimetype": "text/x-python",
   "name": "python",
   "nbconvert_exporter": "python",
   "pygments_lexer": "ipython3",
   "version": "3.7.12"
  }
 },
 "nbformat": 4,
 "nbformat_minor": 5
}
